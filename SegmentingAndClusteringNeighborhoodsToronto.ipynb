{
 "cells": [
  {
   "cell_type": "markdown",
   "metadata": {},
   "source": [
    "## Importing the libraries"
   ]
  },
  {
   "cell_type": "code",
   "execution_count": 28,
   "metadata": {},
   "outputs": [
    {
     "name": "stdout",
     "output_type": "stream",
     "text": [
      "Requirement already satisfied: beautifulsoup4 in /home/jupyterlab/conda/envs/python/lib/python3.6/site-packages (4.8.1)\n",
      "Requirement already satisfied: soupsieve>=1.2 in /home/jupyterlab/conda/envs/python/lib/python3.6/site-packages (from beautifulsoup4) (1.9.4)\n",
      "Requirement already satisfied: lxml in /home/jupyterlab/conda/envs/python/lib/python3.6/site-packages (4.4.1)\n",
      "Requirement already satisfied: html5lib in /home/jupyterlab/conda/envs/python/lib/python3.6/site-packages (0.9999999)\n",
      "Requirement already satisfied: six in /home/jupyterlab/conda/envs/python/lib/python3.6/site-packages (from html5lib) (1.12.0)\n"
     ]
    }
   ],
   "source": [
    "### install libraries if you don't have them (uncomment if needed)\n",
    "!pip install beautifulsoup4\n",
    "!pip install lxml\n",
    "!pip install html5lib\n",
    "\n",
    "import requests\n",
    "from bs4 import BeautifulSoup\n",
    "import pandas as pd"
   ]
  },
  {
   "cell_type": "markdown",
   "metadata": {},
   "source": [
    "## Import the table and tranform it to the dataframe"
   ]
  },
  {
   "cell_type": "code",
   "execution_count": null,
   "metadata": {},
   "outputs": [],
   "source": [
    "# webpage url\n",
    "url = 'https://en.wikipedia.org/wiki/List_of_postal_codes_of_Canada:_M'\n",
    "# get an html of the page\n",
    "website_url = requests.get(url).text\n",
    "# get an html data\n",
    "soup = BeautifulSoup(website_url,'lxml')\n",
    "\n",
    "# get a table out of the page\n",
    "table = soup.find('table',{'class':'wikitable sortable'})\n",
    "\n",
    "# extract the rows which are defined by tr identifyer\n",
    "table_rows = table.find_all('tr')\n",
    "# get the elements\n",
    "l = []\n",
    "for tr in table_rows:\n",
    "    td = tr.find_all('td')\n",
    "    row = [tr.text.strip() for tr in td if tr.text.strip()]\n",
    "    l.append(row)\n",
    "# save to the data frame\n",
    "df=pd.DataFrame(l[1:], columns=[\"PostCode\", \"Borough\",\"Neighbourhood\"])"
   ]
  },
  {
   "cell_type": "markdown",
   "metadata": {},
   "source": [
    "## Modify the data of the dataframe"
   ]
  },
  {
   "cell_type": "code",
   "execution_count": 227,
   "metadata": {},
   "outputs": [],
   "source": [
    "# remove rows where 'Borough' = 'Not assigned'\n",
    "df.drop(df.loc[df['Borough']=='Not assigned'].index,inplace = True)\n",
    "# reset the row labelling\n",
    "df.reset_index(drop=True, inplace=True)\n",
    "# merge the neighbourhoods with the same postcodes\n",
    "df['Neighbourhood'] =df.groupby('PostCode')['Neighbourhood'].transform(lambda x: ', '.join(x))\n",
    "# drop duplicated rows\n",
    "df = df.drop_duplicates()\n",
    "# replacing 'Not assigned' values in 'Neighbourhood' to the values of 'Borough'\n",
    "df['Neighbourhood'][df.loc[df['Neighbourhood']=='Not assigned'].index]=df['Borough'][df.loc[df['Neighbourhood']=='Not assigned'].index]"
   ]
  },
  {
   "cell_type": "code",
   "execution_count": 229,
   "metadata": {},
   "outputs": [
    {
     "data": {
      "text/plain": [
       "(103, 3)"
      ]
     },
     "execution_count": 229,
     "metadata": {},
     "output_type": "execute_result"
    }
   ],
   "source": [
    "# retrieve the shape of the final dataframe\n",
    "df.shape\n"
   ]
  },
  {
   "cell_type": "code",
   "execution_count": null,
   "metadata": {},
   "outputs": [],
   "source": []
  }
 ],
 "metadata": {
  "kernelspec": {
   "display_name": "Python",
   "language": "python",
   "name": "conda-env-python-py"
  },
  "language_info": {
   "codemirror_mode": {
    "name": "ipython",
    "version": 3
   },
   "file_extension": ".py",
   "mimetype": "text/x-python",
   "name": "python",
   "nbconvert_exporter": "python",
   "pygments_lexer": "ipython3",
   "version": "3.6.7"
  }
 },
 "nbformat": 4,
 "nbformat_minor": 4
}
