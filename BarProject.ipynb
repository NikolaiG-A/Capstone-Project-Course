{
 "cells": [
  {
   "cell_type": "markdown",
   "metadata": {},
   "source": [
    "# Perfect Beer Bar Location in Paris"
   ]
  },
  {
   "cell_type": "markdown",
   "metadata": {},
   "source": [
    "In this notebook the analysis of data is performed to make prediction of a perfect location to set up a bar in Paris. This notebook consists of several parts."
   ]
  },
  {
   "cell_type": "markdown",
   "metadata": {},
   "source": [
    "## Table of Contents\n",
    "\n",
    "1. <a href=\"#item1\"> <em>Import libraries and data</em> </a>\n",
    "2. <a href=\"#item2\"> <em>Data preparation</em> </a>\n",
    "3. <a href=\"#item3\"> <em>First data analysis and choosing the appropriate district</em> </a> \n",
    "4. <a href=\"#item3\"> <em>Final data analysis for best bar location</em> </a>  "
   ]
  },
  {
   "cell_type": "markdown",
   "metadata": {},
   "source": [
    "### 1. *Import libraries and data*"
   ]
  },
  {
   "cell_type": "code",
   "execution_count": 84,
   "metadata": {},
   "outputs": [],
   "source": [
    "# import the libraries\n",
    "\n",
    "# to download the data\n",
    "import urllib.request\n",
    "# to work with dataframes\n",
    "import pandas as pd\n",
    "# to work with numerical data\n",
    "import numpy as np\n",
    "# to plot the map\n",
    "import folium\n",
    "from folium.plugins import MarkerCluster\n",
    "# to perform clustering\n",
    "from sklearn.cluster import KMeans\n",
    "# library to handle requests\n",
    "import requests \n",
    "# tranforming json file into a pandas dataframe library\n",
    "from pandas.io.json import json_normalize\n",
    "\n",
    "# Matplotlib and associated plotting modules\n",
    "import matplotlib\n",
    "import matplotlib.pyplot as plt\n",
    "import matplotlib.cm as cm\n",
    "import matplotlib.colors as colors"
   ]
  },
  {
   "cell_type": "code",
   "execution_count": 99,
   "metadata": {},
   "outputs": [
    {
     "data": {
      "text/plain": [
       "('cultural_places.csv', <http.client.HTTPMessage at 0x7f6c71d32438>)"
      ]
     },
     "execution_count": 99,
     "metadata": {},
     "output_type": "execute_result"
    }
   ],
   "source": [
    "### download data for the population within districts\n",
    "url_population = 'https://opendata.arcgis.com/datasets/7104e166a3af481d866d47beb96c0e36_0.csv?outSR=%7B%22latestWkid%22%3A2154%2C%22wkid%22%3A102110%7D'\n",
    "urllib.request.urlretrieve(url_population, 'arr_population.csv')\n",
    "\n",
    "### download data to extract number of employees\n",
    "url_employee = 'https://opendata.arcgis.com/datasets/37834644c7534e3c9f25c4a73c08b2ed_0.csv?outSR=%7B%22latestWkid%22%3A2154%2C%22wkid%22%3A102110%7D'\n",
    "urllib.request.urlretrieve(url_employee, 'employee.csv')\n",
    "\n",
    "### download data to know number of cultural places in districts\n",
    "url_culture='https://opendata.arcgis.com/datasets/8aa9dd03a284497c86c02ba3ecac0cdd_0.csv?outSR=%7B%22latestWkid%22%3A2154%2C%22wkid%22%3A102110%7D'\n",
    "urllib.request.urlretrieve(url_culture, 'cultural_places.csv')"
   ]
  },
  {
   "cell_type": "markdown",
   "metadata": {},
   "source": [
    "### 2. *Data preparation*"
   ]
  },
  {
   "cell_type": "markdown",
   "metadata": {},
   "source": [
    "#### 2.1 Prepare the data on population in districts"
   ]
  },
  {
   "cell_type": "code",
   "execution_count": 3,
   "metadata": {},
   "outputs": [
    {
     "data": {
      "text/html": [
       "<div>\n",
       "<style scoped>\n",
       "    .dataframe tbody tr th:only-of-type {\n",
       "        vertical-align: middle;\n",
       "    }\n",
       "\n",
       "    .dataframe tbody tr th {\n",
       "        vertical-align: top;\n",
       "    }\n",
       "\n",
       "    .dataframe thead th {\n",
       "        text-align: right;\n",
       "    }\n",
       "</style>\n",
       "<table border=\"1\" class=\"dataframe\">\n",
       "  <thead>\n",
       "    <tr style=\"text-align: right;\">\n",
       "      <th></th>\n",
       "      <th>OBJECTID</th>\n",
       "      <th>N_SQ_AR</th>\n",
       "      <th>C_AR</th>\n",
       "      <th>C_ARINSEE</th>\n",
       "      <th>L_AR</th>\n",
       "      <th>L_AROFF</th>\n",
       "      <th>N_SQ_CO</th>\n",
       "      <th>NB_POP99</th>\n",
       "      <th>NB_POP08</th>\n",
       "      <th>NB_POP10</th>\n",
       "      <th>POU_E99_10</th>\n",
       "      <th>SHAPE_Length</th>\n",
       "      <th>SHAPE_Area</th>\n",
       "    </tr>\n",
       "  </thead>\n",
       "  <tbody>\n",
       "    <tr>\n",
       "      <td>0</td>\n",
       "      <td>1</td>\n",
       "      <td>750000019</td>\n",
       "      <td>19</td>\n",
       "      <td>75119</td>\n",
       "      <td>19ème</td>\n",
       "      <td>Buttes-Chaumont</td>\n",
       "      <td>750001537</td>\n",
       "      <td>172587</td>\n",
       "      <td>184909</td>\n",
       "      <td>186652</td>\n",
       "      <td>8.149513</td>\n",
       "      <td>11252.943198</td>\n",
       "      <td>6.792651e+06</td>\n",
       "    </tr>\n",
       "    <tr>\n",
       "      <td>1</td>\n",
       "      <td>2</td>\n",
       "      <td>750000005</td>\n",
       "      <td>5</td>\n",
       "      <td>75105</td>\n",
       "      <td>5ème</td>\n",
       "      <td>Panthéon</td>\n",
       "      <td>750001537</td>\n",
       "      <td>58841</td>\n",
       "      <td>62143</td>\n",
       "      <td>60938</td>\n",
       "      <td>3.563842</td>\n",
       "      <td>6238.823371</td>\n",
       "      <td>2.539375e+06</td>\n",
       "    </tr>\n",
       "    <tr>\n",
       "      <td>2</td>\n",
       "      <td>3</td>\n",
       "      <td>750000020</td>\n",
       "      <td>20</td>\n",
       "      <td>75120</td>\n",
       "      <td>20ème</td>\n",
       "      <td>Ménilmontant</td>\n",
       "      <td>750001537</td>\n",
       "      <td>183093</td>\n",
       "      <td>195083</td>\n",
       "      <td>196880</td>\n",
       "      <td>7.530053</td>\n",
       "      <td>10704.483624</td>\n",
       "      <td>5.983446e+06</td>\n",
       "    </tr>\n",
       "    <tr>\n",
       "      <td>3</td>\n",
       "      <td>4</td>\n",
       "      <td>750000001</td>\n",
       "      <td>1</td>\n",
       "      <td>75101</td>\n",
       "      <td>1er</td>\n",
       "      <td>Louvre</td>\n",
       "      <td>750001537</td>\n",
       "      <td>16895</td>\n",
       "      <td>17440</td>\n",
       "      <td>17308</td>\n",
       "      <td>2.444510</td>\n",
       "      <td>6054.680831</td>\n",
       "      <td>1.824613e+06</td>\n",
       "    </tr>\n",
       "    <tr>\n",
       "      <td>4</td>\n",
       "      <td>5</td>\n",
       "      <td>750000010</td>\n",
       "      <td>10</td>\n",
       "      <td>75110</td>\n",
       "      <td>10ème</td>\n",
       "      <td>Entrepôt</td>\n",
       "      <td>750001537</td>\n",
       "      <td>89685</td>\n",
       "      <td>94321</td>\n",
       "      <td>95394</td>\n",
       "      <td>6.365613</td>\n",
       "      <td>6739.168204</td>\n",
       "      <td>2.891739e+06</td>\n",
       "    </tr>\n",
       "  </tbody>\n",
       "</table>\n",
       "</div>"
      ],
      "text/plain": [
       "   OBJECTID    N_SQ_AR  C_AR  C_ARINSEE   L_AR          L_AROFF    N_SQ_CO  \\\n",
       "0         1  750000019    19      75119  19ème  Buttes-Chaumont  750001537   \n",
       "1         2  750000005     5      75105   5ème         Panthéon  750001537   \n",
       "2         3  750000020    20      75120  20ème     Ménilmontant  750001537   \n",
       "3         4  750000001     1      75101    1er           Louvre  750001537   \n",
       "4         5  750000010    10      75110  10ème         Entrepôt  750001537   \n",
       "\n",
       "   NB_POP99  NB_POP08  NB_POP10  POU_E99_10  SHAPE_Length    SHAPE_Area  \n",
       "0    172587    184909    186652    8.149513  11252.943198  6.792651e+06  \n",
       "1     58841     62143     60938    3.563842   6238.823371  2.539375e+06  \n",
       "2    183093    195083    196880    7.530053  10704.483624  5.983446e+06  \n",
       "3     16895     17440     17308    2.444510   6054.680831  1.824613e+06  \n",
       "4     89685     94321     95394    6.365613   6739.168204  2.891739e+06  "
      ]
     },
     "execution_count": 3,
     "metadata": {},
     "output_type": "execute_result"
    }
   ],
   "source": [
    "# load the data and show it\n",
    "df_pop=pd.read_csv(\"arr_population.csv\")\n",
    "df_pop.head()"
   ]
  },
  {
   "cell_type": "code",
   "execution_count": 4,
   "metadata": {},
   "outputs": [
    {
     "data": {
      "text/html": [
       "<div>\n",
       "<style scoped>\n",
       "    .dataframe tbody tr th:only-of-type {\n",
       "        vertical-align: middle;\n",
       "    }\n",
       "\n",
       "    .dataframe tbody tr th {\n",
       "        vertical-align: top;\n",
       "    }\n",
       "\n",
       "    .dataframe thead th {\n",
       "        text-align: right;\n",
       "    }\n",
       "</style>\n",
       "<table border=\"1\" class=\"dataframe\">\n",
       "  <thead>\n",
       "    <tr style=\"text-align: right;\">\n",
       "      <th></th>\n",
       "      <th>Number</th>\n",
       "      <th>C_ARINSEE</th>\n",
       "      <th>Population</th>\n",
       "    </tr>\n",
       "  </thead>\n",
       "  <tbody>\n",
       "    <tr>\n",
       "      <td>0</td>\n",
       "      <td>1</td>\n",
       "      <td>75101</td>\n",
       "      <td>17308</td>\n",
       "    </tr>\n",
       "    <tr>\n",
       "      <td>1</td>\n",
       "      <td>2</td>\n",
       "      <td>75102</td>\n",
       "      <td>23009</td>\n",
       "    </tr>\n",
       "    <tr>\n",
       "      <td>2</td>\n",
       "      <td>3</td>\n",
       "      <td>75103</td>\n",
       "      <td>35652</td>\n",
       "    </tr>\n",
       "    <tr>\n",
       "      <td>3</td>\n",
       "      <td>4</td>\n",
       "      <td>75104</td>\n",
       "      <td>28012</td>\n",
       "    </tr>\n",
       "    <tr>\n",
       "      <td>4</td>\n",
       "      <td>5</td>\n",
       "      <td>75105</td>\n",
       "      <td>60938</td>\n",
       "    </tr>\n",
       "  </tbody>\n",
       "</table>\n",
       "</div>"
      ],
      "text/plain": [
       "   Number  C_ARINSEE  Population\n",
       "0       1      75101       17308\n",
       "1       2      75102       23009\n",
       "2       3      75103       35652\n",
       "3       4      75104       28012\n",
       "4       5      75105       60938"
      ]
     },
     "execution_count": 4,
     "metadata": {},
     "output_type": "execute_result"
    }
   ],
   "source": [
    "# we need to extract the district number 'C_AR', its identifier from the database 'C_ARINSEE' and population 'NB_POP10'\n",
    "# we also sort the data on identifier\n",
    "df_pop = df_pop.loc[:, df_pop.columns.intersection(['C_AR','C_ARINSEE','NB_POP10'])].sort_values(by=['C_ARINSEE'])\n",
    "# reset the row numbers\n",
    "df_pop.reset_index(drop=True, inplace=True)\n",
    "# replace the column name 'C_AR' to 'Number','NB_POP10' to 'Population'\n",
    "df_pop.rename(columns={\"C_AR\": \"Number\",\"NB_POP10\": \"Population\"},inplace = True)\n",
    "# show the column\n",
    "df_pop.head()"
   ]
  },
  {
   "cell_type": "markdown",
   "metadata": {},
   "source": [
    "#### 2.2 Prepare the data on number of employees in districts "
   ]
  },
  {
   "cell_type": "code",
   "execution_count": 5,
   "metadata": {},
   "outputs": [
    {
     "data": {
      "text/html": [
       "<div>\n",
       "<style scoped>\n",
       "    .dataframe tbody tr th:only-of-type {\n",
       "        vertical-align: middle;\n",
       "    }\n",
       "\n",
       "    .dataframe tbody tr th {\n",
       "        vertical-align: top;\n",
       "    }\n",
       "\n",
       "    .dataframe thead th {\n",
       "        text-align: right;\n",
       "    }\n",
       "</style>\n",
       "<table border=\"1\" class=\"dataframe\">\n",
       "  <thead>\n",
       "    <tr style=\"text-align: right;\">\n",
       "      <th></th>\n",
       "      <th>OBJECTID</th>\n",
       "      <th>N_SQ_IR</th>\n",
       "      <th>C_CAINSEE</th>\n",
       "      <th>N_QU</th>\n",
       "      <th>C_IR</th>\n",
       "      <th>C_TYPEIR</th>\n",
       "      <th>L_IR</th>\n",
       "      <th>M2_IP</th>\n",
       "      <th>M2_POP</th>\n",
       "      <th>M2_EMP</th>\n",
       "      <th>...</th>\n",
       "      <th>C12_POP15P_CS5</th>\n",
       "      <th>C12_POP15P_CS6</th>\n",
       "      <th>C12_POP15P_CS</th>\n",
       "      <th>CS3_CS56</th>\n",
       "      <th>P12_POP_ETR</th>\n",
       "      <th>TX12_POP_ETR</th>\n",
       "      <th>P12_POP_IMM</th>\n",
       "      <th>TX12_POP_IMM</th>\n",
       "      <th>SHAPE_Length</th>\n",
       "      <th>SHAPE_Area</th>\n",
       "    </tr>\n",
       "  </thead>\n",
       "  <tbody>\n",
       "    <tr>\n",
       "      <td>0</td>\n",
       "      <td>1</td>\n",
       "      <td>750004651</td>\n",
       "      <td>75112</td>\n",
       "      <td>48.0</td>\n",
       "      <td>751124806</td>\n",
       "      <td>H</td>\n",
       "      <td>Quinze Vingts 6</td>\n",
       "      <td>35663.273678</td>\n",
       "      <td>31569.299621</td>\n",
       "      <td>32907.156379</td>\n",
       "      <td>...</td>\n",
       "      <td>216.698960</td>\n",
       "      <td>55.465073</td>\n",
       "      <td>1441.390537</td>\n",
       "      <td>3.031327</td>\n",
       "      <td>271.076525</td>\n",
       "      <td>11.628482</td>\n",
       "      <td>326.122252</td>\n",
       "      <td>13.989801</td>\n",
       "      <td>1074.403007</td>\n",
       "      <td>54817.007288</td>\n",
       "    </tr>\n",
       "    <tr>\n",
       "      <td>1</td>\n",
       "      <td>2</td>\n",
       "      <td>750004611</td>\n",
       "      <td>75112</td>\n",
       "      <td>48.0</td>\n",
       "      <td>751124807</td>\n",
       "      <td>H</td>\n",
       "      <td>Quinze Vingts 7</td>\n",
       "      <td>63724.185571</td>\n",
       "      <td>57681.480525</td>\n",
       "      <td>59621.609239</td>\n",
       "      <td>...</td>\n",
       "      <td>407.954128</td>\n",
       "      <td>107.881520</td>\n",
       "      <td>2065.037695</td>\n",
       "      <td>1.832804</td>\n",
       "      <td>361.338039</td>\n",
       "      <td>11.116247</td>\n",
       "      <td>505.601883</td>\n",
       "      <td>15.554397</td>\n",
       "      <td>1621.888235</td>\n",
       "      <td>91619.673610</td>\n",
       "    </tr>\n",
       "    <tr>\n",
       "      <td>2</td>\n",
       "      <td>3</td>\n",
       "      <td>750004683</td>\n",
       "      <td>75112</td>\n",
       "      <td>48.0</td>\n",
       "      <td>751124808</td>\n",
       "      <td>H</td>\n",
       "      <td>Quinze Vingts 8</td>\n",
       "      <td>36888.617306</td>\n",
       "      <td>32368.082580</td>\n",
       "      <td>32368.082580</td>\n",
       "      <td>...</td>\n",
       "      <td>223.437490</td>\n",
       "      <td>65.808063</td>\n",
       "      <td>1351.344232</td>\n",
       "      <td>2.677041</td>\n",
       "      <td>262.572809</td>\n",
       "      <td>11.217757</td>\n",
       "      <td>378.304109</td>\n",
       "      <td>16.162083</td>\n",
       "      <td>1297.312428</td>\n",
       "      <td>64396.187009</td>\n",
       "    </tr>\n",
       "    <tr>\n",
       "      <td>3</td>\n",
       "      <td>4</td>\n",
       "      <td>750004647</td>\n",
       "      <td>75112</td>\n",
       "      <td>48.0</td>\n",
       "      <td>751124809</td>\n",
       "      <td>H</td>\n",
       "      <td>Quinze Vingts 9</td>\n",
       "      <td>41811.631196</td>\n",
       "      <td>34551.616325</td>\n",
       "      <td>41092.399164</td>\n",
       "      <td>...</td>\n",
       "      <td>286.182600</td>\n",
       "      <td>124.914166</td>\n",
       "      <td>1623.895813</td>\n",
       "      <td>1.705357</td>\n",
       "      <td>391.649474</td>\n",
       "      <td>14.698936</td>\n",
       "      <td>513.750041</td>\n",
       "      <td>19.281473</td>\n",
       "      <td>1263.588885</td>\n",
       "      <td>60185.717211</td>\n",
       "    </tr>\n",
       "    <tr>\n",
       "      <td>4</td>\n",
       "      <td>5</td>\n",
       "      <td>750004652</td>\n",
       "      <td>75112</td>\n",
       "      <td>48.0</td>\n",
       "      <td>751124810</td>\n",
       "      <td>H</td>\n",
       "      <td>Quinze Vingts 10</td>\n",
       "      <td>51442.988290</td>\n",
       "      <td>47254.592209</td>\n",
       "      <td>50562.351004</td>\n",
       "      <td>...</td>\n",
       "      <td>256.602636</td>\n",
       "      <td>106.839679</td>\n",
       "      <td>1651.946137</td>\n",
       "      <td>2.192297</td>\n",
       "      <td>505.074201</td>\n",
       "      <td>15.886250</td>\n",
       "      <td>649.501286</td>\n",
       "      <td>20.428958</td>\n",
       "      <td>1254.206414</td>\n",
       "      <td>71374.621050</td>\n",
       "    </tr>\n",
       "  </tbody>\n",
       "</table>\n",
       "<p>5 rows × 56 columns</p>\n",
       "</div>"
      ],
      "text/plain": [
       "   OBJECTID    N_SQ_IR  C_CAINSEE  N_QU       C_IR C_TYPEIR              L_IR  \\\n",
       "0         1  750004651      75112  48.0  751124806        H   Quinze Vingts 6   \n",
       "1         2  750004611      75112  48.0  751124807        H   Quinze Vingts 7   \n",
       "2         3  750004683      75112  48.0  751124808        H   Quinze Vingts 8   \n",
       "3         4  750004647      75112  48.0  751124809        H   Quinze Vingts 9   \n",
       "4         5  750004652      75112  48.0  751124810        H  Quinze Vingts 10   \n",
       "\n",
       "          M2_IP        M2_POP        M2_EMP  ... C12_POP15P_CS5  \\\n",
       "0  35663.273678  31569.299621  32907.156379  ...     216.698960   \n",
       "1  63724.185571  57681.480525  59621.609239  ...     407.954128   \n",
       "2  36888.617306  32368.082580  32368.082580  ...     223.437490   \n",
       "3  41811.631196  34551.616325  41092.399164  ...     286.182600   \n",
       "4  51442.988290  47254.592209  50562.351004  ...     256.602636   \n",
       "\n",
       "  C12_POP15P_CS6  C12_POP15P_CS  CS3_CS56  P12_POP_ETR  TX12_POP_ETR  \\\n",
       "0      55.465073    1441.390537  3.031327   271.076525     11.628482   \n",
       "1     107.881520    2065.037695  1.832804   361.338039     11.116247   \n",
       "2      65.808063    1351.344232  2.677041   262.572809     11.217757   \n",
       "3     124.914166    1623.895813  1.705357   391.649474     14.698936   \n",
       "4     106.839679    1651.946137  2.192297   505.074201     15.886250   \n",
       "\n",
       "   P12_POP_IMM TX12_POP_IMM SHAPE_Length    SHAPE_Area  \n",
       "0   326.122252    13.989801  1074.403007  54817.007288  \n",
       "1   505.601883    15.554397  1621.888235  91619.673610  \n",
       "2   378.304109    16.162083  1297.312428  64396.187009  \n",
       "3   513.750041    19.281473  1263.588885  60185.717211  \n",
       "4   649.501286    20.428958  1254.206414  71374.621050  \n",
       "\n",
       "[5 rows x 56 columns]"
      ]
     },
     "execution_count": 5,
     "metadata": {},
     "output_type": "execute_result"
    }
   ],
   "source": [
    "# load the data and show it\n",
    "df_empl=pd.read_csv(\"employee.csv\")\n",
    "df_empl.head()"
   ]
  },
  {
   "cell_type": "code",
   "execution_count": 6,
   "metadata": {},
   "outputs": [
    {
     "data": {
      "text/html": [
       "<div>\n",
       "<style scoped>\n",
       "    .dataframe tbody tr th:only-of-type {\n",
       "        vertical-align: middle;\n",
       "    }\n",
       "\n",
       "    .dataframe tbody tr th {\n",
       "        vertical-align: top;\n",
       "    }\n",
       "\n",
       "    .dataframe thead th {\n",
       "        text-align: right;\n",
       "    }\n",
       "</style>\n",
       "<table border=\"1\" class=\"dataframe\">\n",
       "  <thead>\n",
       "    <tr style=\"text-align: right;\">\n",
       "      <th></th>\n",
       "      <th>C_CAINSEE</th>\n",
       "      <th>C12_POP15P_CS5</th>\n",
       "    </tr>\n",
       "  </thead>\n",
       "  <tbody>\n",
       "    <tr>\n",
       "      <td>0</td>\n",
       "      <td>75112</td>\n",
       "      <td>216.698960</td>\n",
       "    </tr>\n",
       "    <tr>\n",
       "      <td>1</td>\n",
       "      <td>75112</td>\n",
       "      <td>407.954128</td>\n",
       "    </tr>\n",
       "    <tr>\n",
       "      <td>2</td>\n",
       "      <td>75112</td>\n",
       "      <td>223.437490</td>\n",
       "    </tr>\n",
       "    <tr>\n",
       "      <td>3</td>\n",
       "      <td>75112</td>\n",
       "      <td>286.182600</td>\n",
       "    </tr>\n",
       "    <tr>\n",
       "      <td>4</td>\n",
       "      <td>75112</td>\n",
       "      <td>256.602636</td>\n",
       "    </tr>\n",
       "  </tbody>\n",
       "</table>\n",
       "</div>"
      ],
      "text/plain": [
       "   C_CAINSEE  C12_POP15P_CS5\n",
       "0      75112      216.698960\n",
       "1      75112      407.954128\n",
       "2      75112      223.437490\n",
       "3      75112      286.182600\n",
       "4      75112      256.602636"
      ]
     },
     "execution_count": 6,
     "metadata": {},
     "output_type": "execute_result"
    }
   ],
   "source": [
    "# we extract the district identifier 'C_CAINSEE' and the number of employees from 'C12_POP15P_CS5'\n",
    "df_empl = df_empl.loc[:, df_empl.columns.intersection(['C_CAINSEE','C12_POP15P_CS5'])]\n",
    "# show the data\n",
    "df_empl.head()"
   ]
  },
  {
   "cell_type": "code",
   "execution_count": 7,
   "metadata": {},
   "outputs": [
    {
     "data": {
      "text/html": [
       "<div>\n",
       "<style scoped>\n",
       "    .dataframe tbody tr th:only-of-type {\n",
       "        vertical-align: middle;\n",
       "    }\n",
       "\n",
       "    .dataframe tbody tr th {\n",
       "        vertical-align: top;\n",
       "    }\n",
       "\n",
       "    .dataframe thead th {\n",
       "        text-align: right;\n",
       "    }\n",
       "</style>\n",
       "<table border=\"1\" class=\"dataframe\">\n",
       "  <thead>\n",
       "    <tr style=\"text-align: right;\">\n",
       "      <th></th>\n",
       "      <th>C_CAINSEE</th>\n",
       "      <th>C12_POP15P_CS5</th>\n",
       "    </tr>\n",
       "  </thead>\n",
       "  <tbody>\n",
       "    <tr>\n",
       "      <td>0</td>\n",
       "      <td>75101</td>\n",
       "      <td>1647</td>\n",
       "    </tr>\n",
       "    <tr>\n",
       "      <td>1</td>\n",
       "      <td>75102</td>\n",
       "      <td>2215</td>\n",
       "    </tr>\n",
       "    <tr>\n",
       "      <td>2</td>\n",
       "      <td>75103</td>\n",
       "      <td>3288</td>\n",
       "    </tr>\n",
       "    <tr>\n",
       "      <td>3</td>\n",
       "      <td>75104</td>\n",
       "      <td>2629</td>\n",
       "    </tr>\n",
       "    <tr>\n",
       "      <td>4</td>\n",
       "      <td>75105</td>\n",
       "      <td>4571</td>\n",
       "    </tr>\n",
       "  </tbody>\n",
       "</table>\n",
       "</div>"
      ],
      "text/plain": [
       "   C_CAINSEE  C12_POP15P_CS5\n",
       "0      75101            1647\n",
       "1      75102            2215\n",
       "2      75103            3288\n",
       "3      75104            2629\n",
       "4      75105            4571"
      ]
     },
     "execution_count": 7,
     "metadata": {},
     "output_type": "execute_result"
    }
   ],
   "source": [
    "# we need to get the data only inside the districts of interest, that's why we group the data and show the sum within districts\n",
    "df_empl=df_empl[df_empl['C_CAINSEE'].astype(str).str.contains(\"751\")].groupby(['C_CAINSEE']).sum().astype(int)\n",
    "# update the indexing\n",
    "df_empl.reset_index(inplace=True)\n",
    "# show the data\n",
    "df_empl.head()"
   ]
  },
  {
   "cell_type": "code",
   "execution_count": 8,
   "metadata": {},
   "outputs": [
    {
     "data": {
      "text/html": [
       "<div>\n",
       "<style scoped>\n",
       "    .dataframe tbody tr th:only-of-type {\n",
       "        vertical-align: middle;\n",
       "    }\n",
       "\n",
       "    .dataframe tbody tr th {\n",
       "        vertical-align: top;\n",
       "    }\n",
       "\n",
       "    .dataframe thead th {\n",
       "        text-align: right;\n",
       "    }\n",
       "</style>\n",
       "<table border=\"1\" class=\"dataframe\">\n",
       "  <thead>\n",
       "    <tr style=\"text-align: right;\">\n",
       "      <th></th>\n",
       "      <th>C_ARINSEE</th>\n",
       "      <th>Employees</th>\n",
       "    </tr>\n",
       "  </thead>\n",
       "  <tbody>\n",
       "    <tr>\n",
       "      <td>0</td>\n",
       "      <td>75101</td>\n",
       "      <td>1647</td>\n",
       "    </tr>\n",
       "    <tr>\n",
       "      <td>1</td>\n",
       "      <td>75102</td>\n",
       "      <td>2215</td>\n",
       "    </tr>\n",
       "    <tr>\n",
       "      <td>2</td>\n",
       "      <td>75103</td>\n",
       "      <td>3288</td>\n",
       "    </tr>\n",
       "    <tr>\n",
       "      <td>3</td>\n",
       "      <td>75104</td>\n",
       "      <td>2629</td>\n",
       "    </tr>\n",
       "    <tr>\n",
       "      <td>4</td>\n",
       "      <td>75105</td>\n",
       "      <td>4571</td>\n",
       "    </tr>\n",
       "  </tbody>\n",
       "</table>\n",
       "</div>"
      ],
      "text/plain": [
       "   C_ARINSEE  Employees\n",
       "0      75101       1647\n",
       "1      75102       2215\n",
       "2      75103       3288\n",
       "3      75104       2629\n",
       "4      75105       4571"
      ]
     },
     "execution_count": 8,
     "metadata": {},
     "output_type": "execute_result"
    }
   ],
   "source": [
    "# replace the column name 'C_CAINSEE' to 'C_ARINSEE','C12_POP15P_CS5' to 'Employees' for later merging the dataframes\n",
    "df_empl.rename(columns={\"C_CAINSEE\": \"C_ARINSEE\",\"C12_POP15P_CS5\": \"Employees\"},inplace = True)\n",
    "# show the data\n",
    "df_empl.head()"
   ]
  },
  {
   "cell_type": "markdown",
   "metadata": {},
   "source": [
    "#### 2.3 Prepare the data on number of cultural places in districts"
   ]
  },
  {
   "cell_type": "code",
   "execution_count": 9,
   "metadata": {},
   "outputs": [
    {
     "data": {
      "text/html": [
       "<div>\n",
       "<style scoped>\n",
       "    .dataframe tbody tr th:only-of-type {\n",
       "        vertical-align: middle;\n",
       "    }\n",
       "\n",
       "    .dataframe tbody tr th {\n",
       "        vertical-align: top;\n",
       "    }\n",
       "\n",
       "    .dataframe thead th {\n",
       "        text-align: right;\n",
       "    }\n",
       "</style>\n",
       "<table border=\"1\" class=\"dataframe\">\n",
       "  <thead>\n",
       "    <tr style=\"text-align: right;\">\n",
       "      <th></th>\n",
       "      <th>X</th>\n",
       "      <th>Y</th>\n",
       "      <th>OBJECTID</th>\n",
       "      <th>NOM_LIEU</th>\n",
       "      <th>DEP</th>\n",
       "      <th>COMMUNE</th>\n",
       "      <th>CODE_INSEE</th>\n",
       "      <th>CODE_POSTAL</th>\n",
       "      <th>RAYONNEMENT</th>\n",
       "      <th>GPE_800M</th>\n",
       "      <th>...</th>\n",
       "      <th>C_SUF3</th>\n",
       "      <th>C_DESI</th>\n",
       "      <th>C_LIAISON</th>\n",
       "      <th>L_VOIE</th>\n",
       "      <th>N_SQ_EP</th>\n",
       "      <th>C_NIV1</th>\n",
       "      <th>C_NIV2</th>\n",
       "      <th>C_NIV3</th>\n",
       "      <th>COORD_X</th>\n",
       "      <th>COORD_Y</th>\n",
       "    </tr>\n",
       "  </thead>\n",
       "  <tbody>\n",
       "    <tr>\n",
       "      <td>0</td>\n",
       "      <td>653770.9707</td>\n",
       "      <td>6.863828e+06</td>\n",
       "      <td>2001</td>\n",
       "      <td>Musée des Moulages Dermatologiques</td>\n",
       "      <td>75</td>\n",
       "      <td>Paris 10e Arrondissement</td>\n",
       "      <td>75110</td>\n",
       "      <td>75010.0</td>\n",
       "      <td>3.0</td>\n",
       "      <td>Non</td>\n",
       "      <td>...</td>\n",
       "      <td>NaN</td>\n",
       "      <td>AV</td>\n",
       "      <td>NaN</td>\n",
       "      <td>CLAUDE VELLEFAUX</td>\n",
       "      <td>752003607</td>\n",
       "      <td>13</td>\n",
       "      <td>133</td>\n",
       "      <td>13311</td>\n",
       "      <td>653770.9706</td>\n",
       "      <td>6.863828e+06</td>\n",
       "    </tr>\n",
       "    <tr>\n",
       "      <td>1</td>\n",
       "      <td>649586.6555</td>\n",
       "      <td>6.862236e+06</td>\n",
       "      <td>2002</td>\n",
       "      <td>Musée des Plans-Reliefs de Paris</td>\n",
       "      <td>75</td>\n",
       "      <td>Paris 7e Arrondissement</td>\n",
       "      <td>75107</td>\n",
       "      <td>75007.0</td>\n",
       "      <td>2.0</td>\n",
       "      <td>Non</td>\n",
       "      <td>...</td>\n",
       "      <td></td>\n",
       "      <td>RUE</td>\n",
       "      <td>DE</td>\n",
       "      <td>GRENELLE</td>\n",
       "      <td>752003585</td>\n",
       "      <td>13</td>\n",
       "      <td>133</td>\n",
       "      <td>13311</td>\n",
       "      <td>649586.6554</td>\n",
       "      <td>6.862236e+06</td>\n",
       "    </tr>\n",
       "    <tr>\n",
       "      <td>2</td>\n",
       "      <td>642338.4269</td>\n",
       "      <td>6.863770e+06</td>\n",
       "      <td>2003</td>\n",
       "      <td>Musée des Transmissions et de colombophilie mi...</td>\n",
       "      <td>92</td>\n",
       "      <td>Suresnes</td>\n",
       "      <td>92073</td>\n",
       "      <td>92150.0</td>\n",
       "      <td>3.0</td>\n",
       "      <td>Non</td>\n",
       "      <td>...</td>\n",
       "      <td>NaN</td>\n",
       "      <td>RUE</td>\n",
       "      <td>DU</td>\n",
       "      <td>COLONEL HUBERT DELESTREE</td>\n",
       "      <td>923002813</td>\n",
       "      <td>13</td>\n",
       "      <td>133</td>\n",
       "      <td>13311</td>\n",
       "      <td>642338.4268</td>\n",
       "      <td>6.863770e+06</td>\n",
       "    </tr>\n",
       "    <tr>\n",
       "      <td>3</td>\n",
       "      <td>671072.2973</td>\n",
       "      <td>6.864174e+06</td>\n",
       "      <td>2004</td>\n",
       "      <td>Musée des Transports Urbains</td>\n",
       "      <td>77</td>\n",
       "      <td>Chelles</td>\n",
       "      <td>77108</td>\n",
       "      <td>77500.0</td>\n",
       "      <td>3.0</td>\n",
       "      <td>Non</td>\n",
       "      <td>...</td>\n",
       "      <td>NaN</td>\n",
       "      <td>RUE</td>\n",
       "      <td>NaN</td>\n",
       "      <td>GABRIEL DE MORTILLET</td>\n",
       "      <td>770000096</td>\n",
       "      <td>13</td>\n",
       "      <td>133</td>\n",
       "      <td>13311</td>\n",
       "      <td>671072.2972</td>\n",
       "      <td>6.864174e+06</td>\n",
       "    </tr>\n",
       "    <tr>\n",
       "      <td>4</td>\n",
       "      <td>649586.6555</td>\n",
       "      <td>6.862236e+06</td>\n",
       "      <td>2005</td>\n",
       "      <td>Musée d'Histoire Contemporaine - Hôtel des Inv...</td>\n",
       "      <td>75</td>\n",
       "      <td>Paris 7e Arrondissement</td>\n",
       "      <td>75107</td>\n",
       "      <td>75007.0</td>\n",
       "      <td>3.0</td>\n",
       "      <td>Non</td>\n",
       "      <td>...</td>\n",
       "      <td>NaN</td>\n",
       "      <td>RUE</td>\n",
       "      <td>NaN</td>\n",
       "      <td>GRENELLE</td>\n",
       "      <td>752003582</td>\n",
       "      <td>13</td>\n",
       "      <td>133</td>\n",
       "      <td>13311</td>\n",
       "      <td>649586.6554</td>\n",
       "      <td>6.862236e+06</td>\n",
       "    </tr>\n",
       "  </tbody>\n",
       "</table>\n",
       "<p>5 rows × 53 columns</p>\n",
       "</div>"
      ],
      "text/plain": [
       "             X             Y  OBJECTID  \\\n",
       "0  653770.9707  6.863828e+06      2001   \n",
       "1  649586.6555  6.862236e+06      2002   \n",
       "2  642338.4269  6.863770e+06      2003   \n",
       "3  671072.2973  6.864174e+06      2004   \n",
       "4  649586.6555  6.862236e+06      2005   \n",
       "\n",
       "                                            NOM_LIEU  DEP  \\\n",
       "0                 Musée des Moulages Dermatologiques   75   \n",
       "1                   Musée des Plans-Reliefs de Paris   75   \n",
       "2  Musée des Transmissions et de colombophilie mi...   92   \n",
       "3                       Musée des Transports Urbains   77   \n",
       "4  Musée d'Histoire Contemporaine - Hôtel des Inv...   75   \n",
       "\n",
       "                    COMMUNE  CODE_INSEE  CODE_POSTAL  RAYONNEMENT GPE_800M  \\\n",
       "0  Paris 10e Arrondissement       75110      75010.0          3.0      Non   \n",
       "1   Paris 7e Arrondissement       75107      75007.0          2.0      Non   \n",
       "2                  Suresnes       92073      92150.0          3.0      Non   \n",
       "3                   Chelles       77108      77500.0          3.0      Non   \n",
       "4   Paris 7e Arrondissement       75107      75007.0          3.0      Non   \n",
       "\n",
       "   ... C_SUF3 C_DESI C_LIAISON                    L_VOIE    N_SQ_EP  C_NIV1  \\\n",
       "0  ...    NaN     AV       NaN          CLAUDE VELLEFAUX  752003607      13   \n",
       "1  ...           RUE        DE                  GRENELLE  752003585      13   \n",
       "2  ...    NaN    RUE        DU  COLONEL HUBERT DELESTREE  923002813      13   \n",
       "3  ...    NaN    RUE       NaN      GABRIEL DE MORTILLET  770000096      13   \n",
       "4  ...    NaN    RUE       NaN                  GRENELLE  752003582      13   \n",
       "\n",
       "  C_NIV2  C_NIV3      COORD_X       COORD_Y  \n",
       "0    133   13311  653770.9706  6.863828e+06  \n",
       "1    133   13311  649586.6554  6.862236e+06  \n",
       "2    133   13311  642338.4268  6.863770e+06  \n",
       "3    133   13311  671072.2972  6.864174e+06  \n",
       "4    133   13311  649586.6554  6.862236e+06  \n",
       "\n",
       "[5 rows x 53 columns]"
      ]
     },
     "execution_count": 9,
     "metadata": {},
     "output_type": "execute_result"
    }
   ],
   "source": [
    "# load the data and show it\n",
    "df_cult=pd.read_csv(\"cultural_places.csv\")\n",
    "df_cult.head()"
   ]
  },
  {
   "cell_type": "code",
   "execution_count": 10,
   "metadata": {},
   "outputs": [
    {
     "data": {
      "text/html": [
       "<div>\n",
       "<style scoped>\n",
       "    .dataframe tbody tr th:only-of-type {\n",
       "        vertical-align: middle;\n",
       "    }\n",
       "\n",
       "    .dataframe tbody tr th {\n",
       "        vertical-align: top;\n",
       "    }\n",
       "\n",
       "    .dataframe thead th {\n",
       "        text-align: right;\n",
       "    }\n",
       "</style>\n",
       "<table border=\"1\" class=\"dataframe\">\n",
       "  <thead>\n",
       "    <tr style=\"text-align: right;\">\n",
       "      <th></th>\n",
       "      <th>CODE_INSEE</th>\n",
       "      <th>CODE_POSTAL</th>\n",
       "    </tr>\n",
       "  </thead>\n",
       "  <tbody>\n",
       "    <tr>\n",
       "      <td>0</td>\n",
       "      <td>75110</td>\n",
       "      <td>75010</td>\n",
       "    </tr>\n",
       "    <tr>\n",
       "      <td>1</td>\n",
       "      <td>75107</td>\n",
       "      <td>75007</td>\n",
       "    </tr>\n",
       "    <tr>\n",
       "      <td>2</td>\n",
       "      <td>92073</td>\n",
       "      <td>92150</td>\n",
       "    </tr>\n",
       "    <tr>\n",
       "      <td>3</td>\n",
       "      <td>77108</td>\n",
       "      <td>77500</td>\n",
       "    </tr>\n",
       "    <tr>\n",
       "      <td>4</td>\n",
       "      <td>75107</td>\n",
       "      <td>75007</td>\n",
       "    </tr>\n",
       "  </tbody>\n",
       "</table>\n",
       "</div>"
      ],
      "text/plain": [
       "   CODE_INSEE  CODE_POSTAL\n",
       "0       75110        75010\n",
       "1       75107        75007\n",
       "2       92073        92150\n",
       "3       77108        77500\n",
       "4       75107        75007"
      ]
     },
     "execution_count": 10,
     "metadata": {},
     "output_type": "execute_result"
    }
   ],
   "source": [
    "# extract the column with identifiers 'CODE_INSEE' and 'CODE_POSTAL'\n",
    "df_cult=df_cult.loc[:, df_cult.columns.intersection(['CODE_INSEE','CODE_POSTAL'])]\n",
    "# drop possible NaN values\n",
    "df_cult.dropna(inplace=True)\n",
    "# treat the data as integer\n",
    "df_cult=df_cult.astype(int)\n",
    "# show the data\n",
    "df_cult.head()"
   ]
  },
  {
   "cell_type": "code",
   "execution_count": 11,
   "metadata": {},
   "outputs": [
    {
     "data": {
      "text/html": [
       "<div>\n",
       "<style scoped>\n",
       "    .dataframe tbody tr th:only-of-type {\n",
       "        vertical-align: middle;\n",
       "    }\n",
       "\n",
       "    .dataframe tbody tr th {\n",
       "        vertical-align: top;\n",
       "    }\n",
       "\n",
       "    .dataframe thead th {\n",
       "        text-align: right;\n",
       "    }\n",
       "</style>\n",
       "<table border=\"1\" class=\"dataframe\">\n",
       "  <thead>\n",
       "    <tr style=\"text-align: right;\">\n",
       "      <th></th>\n",
       "      <th>CODE_INSEE</th>\n",
       "      <th>CODE_POSTAL</th>\n",
       "    </tr>\n",
       "  </thead>\n",
       "  <tbody>\n",
       "    <tr>\n",
       "      <td>0</td>\n",
       "      <td>75110</td>\n",
       "      <td>75010</td>\n",
       "    </tr>\n",
       "    <tr>\n",
       "      <td>1</td>\n",
       "      <td>75107</td>\n",
       "      <td>75007</td>\n",
       "    </tr>\n",
       "    <tr>\n",
       "      <td>4</td>\n",
       "      <td>75107</td>\n",
       "      <td>75007</td>\n",
       "    </tr>\n",
       "    <tr>\n",
       "      <td>8</td>\n",
       "      <td>75101</td>\n",
       "      <td>75001</td>\n",
       "    </tr>\n",
       "    <tr>\n",
       "      <td>9</td>\n",
       "      <td>75112</td>\n",
       "      <td>75012</td>\n",
       "    </tr>\n",
       "  </tbody>\n",
       "</table>\n",
       "</div>"
      ],
      "text/plain": [
       "   CODE_INSEE  CODE_POSTAL\n",
       "0       75110        75010\n",
       "1       75107        75007\n",
       "4       75107        75007\n",
       "8       75101        75001\n",
       "9       75112        75012"
      ]
     },
     "execution_count": 11,
     "metadata": {},
     "output_type": "execute_result"
    }
   ],
   "source": [
    "# extract only those areas which is inside Paris, i.e. postal code is 75001...75020\n",
    "df_cult = df_cult[df_cult['CODE_POSTAL'].between(75001, 75020)]\n",
    "# show the dataframe\n",
    "df_cult.head()"
   ]
  },
  {
   "cell_type": "code",
   "execution_count": 12,
   "metadata": {},
   "outputs": [
    {
     "data": {
      "text/html": [
       "<div>\n",
       "<style scoped>\n",
       "    .dataframe tbody tr th:only-of-type {\n",
       "        vertical-align: middle;\n",
       "    }\n",
       "\n",
       "    .dataframe tbody tr th {\n",
       "        vertical-align: top;\n",
       "    }\n",
       "\n",
       "    .dataframe thead th {\n",
       "        text-align: right;\n",
       "    }\n",
       "</style>\n",
       "<table border=\"1\" class=\"dataframe\">\n",
       "  <thead>\n",
       "    <tr style=\"text-align: right;\">\n",
       "      <th></th>\n",
       "      <th>C_ARINSEE</th>\n",
       "      <th>Post Code</th>\n",
       "      <th>Cultural Sites</th>\n",
       "    </tr>\n",
       "  </thead>\n",
       "  <tbody>\n",
       "    <tr>\n",
       "      <td>0</td>\n",
       "      <td>75101</td>\n",
       "      <td>75001</td>\n",
       "      <td>31</td>\n",
       "    </tr>\n",
       "    <tr>\n",
       "      <td>1</td>\n",
       "      <td>75102</td>\n",
       "      <td>75002</td>\n",
       "      <td>21</td>\n",
       "    </tr>\n",
       "    <tr>\n",
       "      <td>2</td>\n",
       "      <td>75103</td>\n",
       "      <td>75003</td>\n",
       "      <td>47</td>\n",
       "    </tr>\n",
       "    <tr>\n",
       "      <td>3</td>\n",
       "      <td>75104</td>\n",
       "      <td>75004</td>\n",
       "      <td>49</td>\n",
       "    </tr>\n",
       "    <tr>\n",
       "      <td>4</td>\n",
       "      <td>75105</td>\n",
       "      <td>75005</td>\n",
       "      <td>51</td>\n",
       "    </tr>\n",
       "  </tbody>\n",
       "</table>\n",
       "</div>"
      ],
      "text/plain": [
       "   C_ARINSEE  Post Code  Cultural Sites\n",
       "0      75101      75001              31\n",
       "1      75102      75002              21\n",
       "2      75103      75003              47\n",
       "3      75104      75004              49\n",
       "4      75105      75005              51"
      ]
     },
     "execution_count": 12,
     "metadata": {},
     "output_type": "execute_result"
    }
   ],
   "source": [
    "# group the data based on the identifiers and add the number of cultural places in districts\n",
    "df_cult=df_cult.groupby(['CODE_INSEE','CODE_POSTAL']).CODE_POSTAL.agg('count').to_frame('Cultural Sites').reset_index()\n",
    "# replace the column name 'C_CAINSEE' to 'C_ARINSEE','CODE_POSTAL' to 'Post Code' for later merging the dataframes\n",
    "df_cult.rename(columns={\"CODE_INSEE\": \"C_ARINSEE\",\"CODE_POSTAL\": \"Post Code\"},inplace = True)\n",
    "# show the data\n",
    "df_cult.head()"
   ]
  },
  {
   "cell_type": "markdown",
   "metadata": {},
   "source": [
    "#### 2.4 Prepare the data on rent price in districts"
   ]
  },
  {
   "cell_type": "code",
   "execution_count": 13,
   "metadata": {},
   "outputs": [
    {
     "data": {
      "text/html": [
       "<div>\n",
       "<style scoped>\n",
       "    .dataframe tbody tr th:only-of-type {\n",
       "        vertical-align: middle;\n",
       "    }\n",
       "\n",
       "    .dataframe tbody tr th {\n",
       "        vertical-align: top;\n",
       "    }\n",
       "\n",
       "    .dataframe thead th {\n",
       "        text-align: right;\n",
       "    }\n",
       "</style>\n",
       "<table border=\"1\" class=\"dataframe\">\n",
       "  <thead>\n",
       "    <tr style=\"text-align: right;\">\n",
       "      <th></th>\n",
       "      <th>Post Code</th>\n",
       "      <th>Cost</th>\n",
       "    </tr>\n",
       "  </thead>\n",
       "  <tbody>\n",
       "    <tr>\n",
       "      <td>0</td>\n",
       "      <td>75001</td>\n",
       "      <td>12660</td>\n",
       "    </tr>\n",
       "    <tr>\n",
       "      <td>1</td>\n",
       "      <td>75002</td>\n",
       "      <td>11370</td>\n",
       "    </tr>\n",
       "    <tr>\n",
       "      <td>2</td>\n",
       "      <td>75003</td>\n",
       "      <td>11340</td>\n",
       "    </tr>\n",
       "    <tr>\n",
       "      <td>3</td>\n",
       "      <td>75004</td>\n",
       "      <td>12750</td>\n",
       "    </tr>\n",
       "    <tr>\n",
       "      <td>4</td>\n",
       "      <td>75005</td>\n",
       "      <td>11770</td>\n",
       "    </tr>\n",
       "  </tbody>\n",
       "</table>\n",
       "</div>"
      ],
      "text/plain": [
       "   Post Code   Cost\n",
       "0      75001  12660\n",
       "1      75002  11370\n",
       "2      75003  11340\n",
       "3      75004  12750\n",
       "4      75005  11770"
      ]
     },
     "execution_count": 13,
     "metadata": {},
     "output_type": "execute_result"
    }
   ],
   "source": [
    "# get the data from https://droit-finances.commentcamarche.com/faq/7409-immobilier-a-paris-prix-au-m2-des-arrondissements\n",
    "# make a dataframe manually\n",
    "\n",
    "# the rent is given in euros/m^2\n",
    "d_rent = {'Post Code': range(75001, 75021), 'Cost': [12660,11370,11340,12750,11770,13010,12340,10560,10150,8870,9580,8720,8610,9330,9350,10070,9600,8890,7800,8240]}\n",
    "df_rent=pd.DataFrame(data=d_rent)\n",
    "# show the data\n",
    "df_rent.head()"
   ]
  },
  {
   "cell_type": "markdown",
   "metadata": {},
   "source": [
    "#### 2.5 Merge the data for the final dataframe"
   ]
  },
  {
   "cell_type": "code",
   "execution_count": 14,
   "metadata": {},
   "outputs": [
    {
     "data": {
      "text/html": [
       "<div>\n",
       "<style scoped>\n",
       "    .dataframe tbody tr th:only-of-type {\n",
       "        vertical-align: middle;\n",
       "    }\n",
       "\n",
       "    .dataframe tbody tr th {\n",
       "        vertical-align: top;\n",
       "    }\n",
       "\n",
       "    .dataframe thead th {\n",
       "        text-align: right;\n",
       "    }\n",
       "</style>\n",
       "<table border=\"1\" class=\"dataframe\">\n",
       "  <thead>\n",
       "    <tr style=\"text-align: right;\">\n",
       "      <th></th>\n",
       "      <th>Number</th>\n",
       "      <th>C_ARINSEE</th>\n",
       "      <th>Population</th>\n",
       "      <th>Employees</th>\n",
       "      <th>Post Code</th>\n",
       "      <th>Cultural Sites</th>\n",
       "      <th>Cost</th>\n",
       "    </tr>\n",
       "  </thead>\n",
       "  <tbody>\n",
       "    <tr>\n",
       "      <td>0</td>\n",
       "      <td>1</td>\n",
       "      <td>75101</td>\n",
       "      <td>17308</td>\n",
       "      <td>1647</td>\n",
       "      <td>75001</td>\n",
       "      <td>31</td>\n",
       "      <td>12660</td>\n",
       "    </tr>\n",
       "    <tr>\n",
       "      <td>1</td>\n",
       "      <td>2</td>\n",
       "      <td>75102</td>\n",
       "      <td>23009</td>\n",
       "      <td>2215</td>\n",
       "      <td>75002</td>\n",
       "      <td>21</td>\n",
       "      <td>11370</td>\n",
       "    </tr>\n",
       "    <tr>\n",
       "      <td>2</td>\n",
       "      <td>3</td>\n",
       "      <td>75103</td>\n",
       "      <td>35652</td>\n",
       "      <td>3288</td>\n",
       "      <td>75003</td>\n",
       "      <td>47</td>\n",
       "      <td>11340</td>\n",
       "    </tr>\n",
       "    <tr>\n",
       "      <td>3</td>\n",
       "      <td>4</td>\n",
       "      <td>75104</td>\n",
       "      <td>28012</td>\n",
       "      <td>2629</td>\n",
       "      <td>75004</td>\n",
       "      <td>49</td>\n",
       "      <td>12750</td>\n",
       "    </tr>\n",
       "    <tr>\n",
       "      <td>4</td>\n",
       "      <td>5</td>\n",
       "      <td>75105</td>\n",
       "      <td>60938</td>\n",
       "      <td>4571</td>\n",
       "      <td>75005</td>\n",
       "      <td>51</td>\n",
       "      <td>11770</td>\n",
       "    </tr>\n",
       "  </tbody>\n",
       "</table>\n",
       "</div>"
      ],
      "text/plain": [
       "   Number  C_ARINSEE  Population  Employees  Post Code  Cultural Sites   Cost\n",
       "0       1      75101       17308       1647      75001              31  12660\n",
       "1       2      75102       23009       2215      75002              21  11370\n",
       "2       3      75103       35652       3288      75003              47  11340\n",
       "3       4      75104       28012       2629      75004              49  12750\n",
       "4       5      75105       60938       4571      75005              51  11770"
      ]
     },
     "execution_count": 14,
     "metadata": {},
     "output_type": "execute_result"
    }
   ],
   "source": [
    "### merge tables on population and employees \n",
    "df1=pd.merge(df_pop, df_empl, on=\"C_ARINSEE\")\n",
    "### merge tables on cultural sites and rent price\n",
    "df2=pd.merge(df_cult, df_rent, on=\"Post Code\")\n",
    "### final table\n",
    "df=pd.merge(df1,df2, on=\"C_ARINSEE\")\n",
    "df.head()"
   ]
  },
  {
   "cell_type": "code",
   "execution_count": 15,
   "metadata": {},
   "outputs": [
    {
     "data": {
      "text/html": [
       "<div>\n",
       "<style scoped>\n",
       "    .dataframe tbody tr th:only-of-type {\n",
       "        vertical-align: middle;\n",
       "    }\n",
       "\n",
       "    .dataframe tbody tr th {\n",
       "        vertical-align: top;\n",
       "    }\n",
       "\n",
       "    .dataframe thead th {\n",
       "        text-align: right;\n",
       "    }\n",
       "</style>\n",
       "<table border=\"1\" class=\"dataframe\">\n",
       "  <thead>\n",
       "    <tr style=\"text-align: right;\">\n",
       "      <th></th>\n",
       "      <th>Number</th>\n",
       "      <th>Post Code</th>\n",
       "      <th>Population</th>\n",
       "      <th>Cultural Sites</th>\n",
       "      <th>Employees</th>\n",
       "      <th>Cost</th>\n",
       "    </tr>\n",
       "  </thead>\n",
       "  <tbody>\n",
       "    <tr>\n",
       "      <td>0</td>\n",
       "      <td>1</td>\n",
       "      <td>75001</td>\n",
       "      <td>17308</td>\n",
       "      <td>31</td>\n",
       "      <td>1647</td>\n",
       "      <td>12660</td>\n",
       "    </tr>\n",
       "    <tr>\n",
       "      <td>1</td>\n",
       "      <td>2</td>\n",
       "      <td>75002</td>\n",
       "      <td>23009</td>\n",
       "      <td>21</td>\n",
       "      <td>2215</td>\n",
       "      <td>11370</td>\n",
       "    </tr>\n",
       "    <tr>\n",
       "      <td>2</td>\n",
       "      <td>3</td>\n",
       "      <td>75003</td>\n",
       "      <td>35652</td>\n",
       "      <td>47</td>\n",
       "      <td>3288</td>\n",
       "      <td>11340</td>\n",
       "    </tr>\n",
       "    <tr>\n",
       "      <td>3</td>\n",
       "      <td>4</td>\n",
       "      <td>75004</td>\n",
       "      <td>28012</td>\n",
       "      <td>49</td>\n",
       "      <td>2629</td>\n",
       "      <td>12750</td>\n",
       "    </tr>\n",
       "    <tr>\n",
       "      <td>4</td>\n",
       "      <td>5</td>\n",
       "      <td>75005</td>\n",
       "      <td>60938</td>\n",
       "      <td>51</td>\n",
       "      <td>4571</td>\n",
       "      <td>11770</td>\n",
       "    </tr>\n",
       "  </tbody>\n",
       "</table>\n",
       "</div>"
      ],
      "text/plain": [
       "   Number  Post Code  Population  Cultural Sites  Employees   Cost\n",
       "0       1      75001       17308              31       1647  12660\n",
       "1       2      75002       23009              21       2215  11370\n",
       "2       3      75003       35652              47       3288  11340\n",
       "3       4      75004       28012              49       2629  12750\n",
       "4       5      75005       60938              51       4571  11770"
      ]
     },
     "execution_count": 15,
     "metadata": {},
     "output_type": "execute_result"
    }
   ],
   "source": [
    "# drop the unnecessary identifier columns\n",
    "df.drop(columns='C_ARINSEE',inplace = True)\n",
    "# change the order of the columns\n",
    "df = df[['Number', 'Post Code', 'Population', 'Cultural Sites', 'Employees','Cost']]\n",
    "# show the final data frame\n",
    "df.head()"
   ]
  },
  {
   "cell_type": "markdown",
   "metadata": {},
   "source": [
    "### 3. *First data analysis and choosing the appropriate district*"
   ]
  },
  {
   "cell_type": "markdown",
   "metadata": {},
   "source": [
    "#### 3.1 Data visualisation"
   ]
  },
  {
   "cell_type": "markdown",
   "metadata": {},
   "source": [
    "First of all we need to visualise the data to see the distribution of different features of the districts. It is better to use diagrams for this purposes."
   ]
  },
  {
   "cell_type": "code",
   "execution_count": 48,
   "metadata": {},
   "outputs": [
    {
     "data": {
      "image/png": "[encoded data removed]",
      "text/plain": [
       "<Figure size 1152x432 with 4 Axes>"
      ]
     },
     "metadata": {
      "needs_background": "light"
     },
     "output_type": "display_data"
    }
   ],
   "source": [
    "# We will use bar plots to see the distribution of different features in district\n",
    "fig, axs = plt.subplots(2, 2, figsize=(16, 6))\n",
    "plt.subplots_adjust(wspace=0.3, hspace=0.5)\n",
    "\n",
    "# prepare the bar plot for population\n",
    "axs[0, 0].bar(df['Number'], df['Population'])\n",
    "axs[0, 0].set_title('Population')\n",
    "axs[0, 0].set_xlabel('District Number')\n",
    "\n",
    "# prepare the bar plot for cultural sites\n",
    "axs[0, 1].bar(df['Number'], df['Cultural Sites'])\n",
    "axs[0, 1].set_title('Cultural Sites')\n",
    "axs[0, 1].set_xlabel('District Number')\n",
    "\n",
    "# prepare the bar plot for number of employees\n",
    "axs[1, 0].bar(df['Number'], df['Employees'])\n",
    "axs[1, 0].set_title('Employees')\n",
    "axs[1, 0].set_xlabel('District Number')\n",
    "\n",
    "# prepare the bar plot for rent cost\n",
    "axs[1, 1].bar(df['Number'], df['Cost'])\n",
    "axs[1, 1].set_title('Rent')\n",
    "axs[1, 1].set_xlabel('District Number')\n",
    "\n",
    "plt.setp(axs, xticks=df['Number'], xticklabels=df['Number'])\n",
    "plt.show()\n"
   ]
  },
  {
   "cell_type": "markdown",
   "metadata": {},
   "source": [
    "As one could notice the distribution of features is different between different districts"
   ]
  },
  {
   "cell_type": "markdown",
   "metadata": {},
   "source": [
    "#### 3.2 Obtain 3 districts for best location of a bar"
   ]
  },
  {
   "cell_type": "markdown",
   "metadata": {},
   "source": [
    "For this purpose we try to maximize population, number of cultural sites inside district and at the same time we need to minimize the rent price. Therefore, it is enough to take the sum of three features and subtract the cost. This combination will provide a score according to which we can sort the data in ascending order to obtain top 3 districts for a bar."
   ]
  },
  {
   "cell_type": "code",
   "execution_count": 308,
   "metadata": {},
   "outputs": [
    {
     "data": {
      "text/html": [
       "<div>\n",
       "<style scoped>\n",
       "    .dataframe tbody tr th:only-of-type {\n",
       "        vertical-align: middle;\n",
       "    }\n",
       "\n",
       "    .dataframe tbody tr th {\n",
       "        vertical-align: top;\n",
       "    }\n",
       "\n",
       "    .dataframe thead th {\n",
       "        text-align: right;\n",
       "    }\n",
       "</style>\n",
       "<table border=\"1\" class=\"dataframe\">\n",
       "  <thead>\n",
       "    <tr style=\"text-align: right;\">\n",
       "      <th></th>\n",
       "      <th>Number</th>\n",
       "      <th>Post Code</th>\n",
       "      <th>Population</th>\n",
       "      <th>Cultural Sites</th>\n",
       "      <th>Employees</th>\n",
       "      <th>Cost</th>\n",
       "      <th>Score</th>\n",
       "    </tr>\n",
       "  </thead>\n",
       "  <tbody>\n",
       "    <tr>\n",
       "      <td>14</td>\n",
       "      <td>15</td>\n",
       "      <td>75015</td>\n",
       "      <td>236715</td>\n",
       "      <td>57</td>\n",
       "      <td>23545</td>\n",
       "      <td>9350</td>\n",
       "      <td>250967</td>\n",
       "    </tr>\n",
       "    <tr>\n",
       "      <td>17</td>\n",
       "      <td>18</td>\n",
       "      <td>75018</td>\n",
       "      <td>202685</td>\n",
       "      <td>72</td>\n",
       "      <td>25977</td>\n",
       "      <td>8890</td>\n",
       "      <td>219844</td>\n",
       "    </tr>\n",
       "    <tr>\n",
       "      <td>19</td>\n",
       "      <td>20</td>\n",
       "      <td>75020</td>\n",
       "      <td>196880</td>\n",
       "      <td>58</td>\n",
       "      <td>27667</td>\n",
       "      <td>8240</td>\n",
       "      <td>216365</td>\n",
       "    </tr>\n",
       "  </tbody>\n",
       "</table>\n",
       "</div>"
      ],
      "text/plain": [
       "    Number  Post Code  Population  Cultural Sites  Employees  Cost   Score\n",
       "14      15      75015      236715              57      23545  9350  250967\n",
       "17      18      75018      202685              72      25977  8890  219844\n",
       "19      20      75020      196880              58      27667  8240  216365"
      ]
     },
     "execution_count": 308,
     "metadata": {},
     "output_type": "execute_result"
    }
   ],
   "source": [
    "# create a new column to present the score as a combination of other columns\n",
    "df['Score']=df['Population']+df['Cultural Sites']+df['Employees']-df['Cost']\n",
    "# sort the results by score\n",
    "df.sort_values(by='Score',ascending=False, inplace= True)\n",
    "# show top 3 results\n",
    "df.head(3)"
   ]
  },
  {
   "cell_type": "markdown",
   "metadata": {},
   "source": [
    "<font size = 4>\n",
    "    \n",
    "__`We conclude that districts 15,18 and 20 are potentially better for setting up a bar.`__"
   ]
  },
  {
   "cell_type": "markdown",
   "metadata": {
    "jupyter": {
     "source_hidden": true
    }
   },
   "source": [
    "### 4. *Final data analysis for best bar location*"
   ]
  },
  {
   "cell_type": "code",
   "execution_count": null,
   "metadata": {
    "jupyter": {
     "source_hidden": true
    }
   },
   "outputs": [],
   "source": []
  },
  {
   "cell_type": "code",
   "execution_count": 269,
   "metadata": {
    "jupyter": {
     "source_hidden": true
    }
   },
   "outputs": [],
   "source": [
    "CLIENT_ID = 'NYG5NQGL1AOJDRSSNPIZKVUGK2VZTXV1YMEROF1REDGVENHC' # your Foursquare ID\n",
    "CLIENT_SECRET = 'KZRS3H5EHJCG4G0RJBARFQHWK5TLD2MAN4CZKTKXWC1X4CTN' # your Foursquare Secret\n",
    "VERSION = '20180604'\n",
    "LIMIT = 10"
   ]
  },
  {
   "cell_type": "code",
   "execution_count": 309,
   "metadata": {
    "jupyter": {
     "source_hidden": true
    }
   },
   "outputs": [],
   "source": [
    "search_query = 'Bar'\n",
    "near_15 ='Paris, France' \n",
    "lat_query_15 = 48.840867\n",
    "lg_query_15 = 2.292800\n",
    "radius_15 = 100\n",
    "search_section = 'drinks'\n",
    "\n",
    "url='https://api.foursquare.com/v2/venues/search?client_id={}&client_secret={}&ll={},{}&near={}&v={}&query={}&section={}&radius={}&limit={}'\n",
    "url15 =url.format(CLIENT_ID, CLIENT_SECRET,lat_query_15,lg_query_15,near_15,VERSION, search_query,search_section,radius_15,LIMIT)"
   ]
  },
  {
   "cell_type": "code",
   "execution_count": 310,
   "metadata": {
    "jupyter": {
     "source_hidden": true
    }
   },
   "outputs": [],
   "source": [
    "results = requests.get(url15).json()"
   ]
  },
  {
   "cell_type": "code",
   "execution_count": 311,
   "metadata": {
    "jupyter": {
     "source_hidden": true
    }
   },
   "outputs": [],
   "source": [
    "# assign relevant part of JSON to venues\n",
    "venues = results['response']['venues']\n",
    "# # tranform venues into a dataframe\n",
    "#df_venues = json_normalize(venues)\n",
    "#df_venues.head()"
   ]
  },
  {
   "cell_type": "code",
   "execution_count": 312,
   "metadata": {
    "jupyter": {
     "source_hidden": true
    }
   },
   "outputs": [],
   "source": [
    "df_venues = json_normalize(venues)"
   ]
  },
  {
   "cell_type": "code",
   "execution_count": 313,
   "metadata": {
    "collapsed": true,
    "jupyter": {
     "outputs_hidden": true,
     "source_hidden": true
    }
   },
   "outputs": [
    {
     "data": {
      "text/plain": [
       "{'venues': [],\n",
       " 'geocode': {'what': '',\n",
       "  'where': 'paris france',\n",
       "  'feature': {'cc': 'FR',\n",
       "   'name': 'Paris',\n",
       "   'displayName': 'Paris',\n",
       "   'matchedName': 'Paris, France',\n",
       "   'highlightedName': '<b>Paris</b>, <b>France</b>',\n",
       "   'woeType': 7,\n",
       "   'slug': 'paris',\n",
       "   'id': 'geonameid:2988507',\n",
       "   'longId': '72057594040916443',\n",
       "   'geometry': {'center': {'lat': 48.85341, 'lng': 2.3488},\n",
       "    'bounds': {'ne': {'lat': 49.03356694704047, 'lng': 2.6042489194755207},\n",
       "     'sw': {'lat': 48.670322030624696, 'lng': 2.1084049608796893}}}},\n",
       "  'parents': []}}"
      ]
     },
     "execution_count": 313,
     "metadata": {},
     "output_type": "execute_result"
    }
   ],
   "source": [
    "results['response']"
   ]
  },
  {
   "cell_type": "code",
   "execution_count": 301,
   "metadata": {
    "collapsed": true,
    "jupyter": {
     "outputs_hidden": true,
     "source_hidden": true
    }
   },
   "outputs": [
    {
     "data": {
      "text/html": [
       "<div>\n",
       "<style scoped>\n",
       "    .dataframe tbody tr th:only-of-type {\n",
       "        vertical-align: middle;\n",
       "    }\n",
       "\n",
       "    .dataframe tbody tr th {\n",
       "        vertical-align: top;\n",
       "    }\n",
       "\n",
       "    .dataframe thead th {\n",
       "        text-align: right;\n",
       "    }\n",
       "</style>\n",
       "<table border=\"1\" class=\"dataframe\">\n",
       "  <thead>\n",
       "    <tr style=\"text-align: right;\">\n",
       "      <th></th>\n",
       "      <th>Name</th>\n",
       "      <th>Latitude</th>\n",
       "      <th>Longitude</th>\n",
       "      <th>Post Code</th>\n",
       "    </tr>\n",
       "  </thead>\n",
       "  <tbody>\n",
       "    <tr>\n",
       "      <td>0</td>\n",
       "      <td>Piano Bar</td>\n",
       "      <td>48.852967</td>\n",
       "      <td>2.345922</td>\n",
       "      <td>75005</td>\n",
       "    </tr>\n",
       "    <tr>\n",
       "      <td>1</td>\n",
       "      <td>Onze Bar</td>\n",
       "      <td>48.852674</td>\n",
       "      <td>2.345438</td>\n",
       "      <td>75005</td>\n",
       "    </tr>\n",
       "    <tr>\n",
       "      <td>2</td>\n",
       "      <td>Le Bo Bar</td>\n",
       "      <td>48.849849</td>\n",
       "      <td>2.349628</td>\n",
       "      <td>NaN</td>\n",
       "    </tr>\n",
       "    <tr>\n",
       "      <td>3</td>\n",
       "      <td>Bar Limon</td>\n",
       "      <td>48.852998</td>\n",
       "      <td>2.353356</td>\n",
       "      <td>NaN</td>\n",
       "    </tr>\n",
       "    <tr>\n",
       "      <td>4</td>\n",
       "      <td>Le Quasimodo Notre-Dame</td>\n",
       "      <td>48.854366</td>\n",
       "      <td>2.349851</td>\n",
       "      <td>75004</td>\n",
       "    </tr>\n",
       "  </tbody>\n",
       "</table>\n",
       "</div>"
      ],
      "text/plain": [
       "                      Name   Latitude  Longitude Post Code\n",
       "0                Piano Bar  48.852967   2.345922     75005\n",
       "1                 Onze Bar  48.852674   2.345438     75005\n",
       "2                Le Bo Bar  48.849849   2.349628       NaN\n",
       "3                Bar Limon  48.852998   2.353356       NaN\n",
       "4  Le Quasimodo Notre-Dame  48.854366   2.349851     75004"
      ]
     },
     "execution_count": 301,
     "metadata": {},
     "output_type": "execute_result"
    }
   ],
   "source": [
    "# get the information of interest\n",
    "df_venues=df_venues.loc[:, df_venues.columns.intersection(['location.postalCode','name','location.lat','location.lng'])]\n",
    "# rename the columns\n",
    "df_venues.rename(columns={\"name\": \"Name\",\"location.lat\": \"Latitude\",\"location.lng\": \"Longitude\",\"location.postalCode\": \"Post Code\"},inplace = True)\n",
    "# show the data\n",
    "df_venues.head()"
   ]
  },
  {
   "cell_type": "code",
   "execution_count": 302,
   "metadata": {
    "collapsed": true,
    "jupyter": {
     "outputs_hidden": true,
     "source_hidden": true
    }
   },
   "outputs": [
    {
     "name": "stderr",
     "output_type": "stream",
     "text": [
      "/home/jupyterlab/conda/envs/python/lib/python3.6/site-packages/ipykernel_launcher.py:10: SettingWithCopyWarning: \n",
      "A value is trying to be set on a copy of a slice from a DataFrame\n",
      "\n",
      "See the caveats in the documentation: http://pandas.pydata.org/pandas-docs/stable/user_guide/indexing.html#returning-a-view-versus-a-copy\n",
      "  # Remove the CWD from sys.path while we load stuff.\n",
      "/home/jupyterlab/conda/envs/python/lib/python3.6/site-packages/ipykernel_launcher.py:12: SettingWithCopyWarning: \n",
      "A value is trying to be set on a copy of a slice from a DataFrame\n",
      "\n",
      "See the caveats in the documentation: http://pandas.pydata.org/pandas-docs/stable/user_guide/indexing.html#returning-a-view-versus-a-copy\n",
      "  if sys.path[0] == '':\n"
     ]
    },
    {
     "data": {
      "text/html": [
       "<div>\n",
       "<style scoped>\n",
       "    .dataframe tbody tr th:only-of-type {\n",
       "        vertical-align: middle;\n",
       "    }\n",
       "\n",
       "    .dataframe tbody tr th {\n",
       "        vertical-align: top;\n",
       "    }\n",
       "\n",
       "    .dataframe thead th {\n",
       "        text-align: right;\n",
       "    }\n",
       "</style>\n",
       "<table border=\"1\" class=\"dataframe\">\n",
       "  <thead>\n",
       "    <tr style=\"text-align: right;\">\n",
       "      <th></th>\n",
       "      <th>Name</th>\n",
       "      <th>Latitude</th>\n",
       "      <th>Longitude</th>\n",
       "      <th>Post Code</th>\n",
       "    </tr>\n",
       "  </thead>\n",
       "  <tbody>\n",
       "    <tr>\n",
       "      <td>0</td>\n",
       "      <td>Piano Bar</td>\n",
       "      <td>48.852967</td>\n",
       "      <td>2.345922</td>\n",
       "      <td>75005</td>\n",
       "    </tr>\n",
       "    <tr>\n",
       "      <td>1</td>\n",
       "      <td>Onze Bar</td>\n",
       "      <td>48.852674</td>\n",
       "      <td>2.345438</td>\n",
       "      <td>75005</td>\n",
       "    </tr>\n",
       "    <tr>\n",
       "      <td>4</td>\n",
       "      <td>Le Quasimodo Notre-Dame</td>\n",
       "      <td>48.854366</td>\n",
       "      <td>2.349851</td>\n",
       "      <td>75004</td>\n",
       "    </tr>\n",
       "    <tr>\n",
       "      <td>5</td>\n",
       "      <td>Île de la Cité</td>\n",
       "      <td>48.854980</td>\n",
       "      <td>2.347003</td>\n",
       "      <td>75004</td>\n",
       "    </tr>\n",
       "    <tr>\n",
       "      <td>6</td>\n",
       "      <td>Bardakis</td>\n",
       "      <td>48.852455</td>\n",
       "      <td>2.345032</td>\n",
       "      <td>75005</td>\n",
       "    </tr>\n",
       "  </tbody>\n",
       "</table>\n",
       "</div>"
      ],
      "text/plain": [
       "                      Name   Latitude  Longitude Post Code\n",
       "0                Piano Bar  48.852967   2.345922     75005\n",
       "1                 Onze Bar  48.852674   2.345438     75005\n",
       "4  Le Quasimodo Notre-Dame  48.854366   2.349851     75004\n",
       "5           Île de la Cité  48.854980   2.347003     75004\n",
       "6                 Bardakis  48.852455   2.345032     75005"
      ]
     },
     "execution_count": 302,
     "metadata": {},
     "output_type": "execute_result"
    }
   ],
   "source": [
    "# modify the Post Code column and make it digit\n",
    "\n",
    "# import the library to find digits in a string\n",
    "import re\n",
    "\n",
    "# in a loop, change the values of Post Code to integer\n",
    "for i,j in enumerate(df_venues['Post Code']):\n",
    "    val=re.findall(r'\\d+',str(df_venues['Post Code'][i]).replace(\" \", \"\"))    \n",
    "    if val:\n",
    "        df_venues['Post Code'][i]=int(val[0])\n",
    "    else:\n",
    "        df_venues['Post Code'][i]= float('nan')\n",
    "# drop possible NaN values\n",
    "df_venues.dropna(inplace=True)\n",
    "# show the data\n",
    "df_venues.head()"
   ]
  },
  {
   "cell_type": "code",
   "execution_count": 303,
   "metadata": {
    "collapsed": true,
    "jupyter": {
     "outputs_hidden": true,
     "source_hidden": true
    }
   },
   "outputs": [
    {
     "data": {
      "text/plain": [
       "(8, 4)"
      ]
     },
     "execution_count": 303,
     "metadata": {},
     "output_type": "execute_result"
    }
   ],
   "source": [
    "df_venues.shape"
   ]
  },
  {
   "cell_type": "code",
   "execution_count": 304,
   "metadata": {
    "collapsed": true,
    "jupyter": {
     "outputs_hidden": true,
     "source_hidden": true
    }
   },
   "outputs": [
    {
     "data": {
      "text/html": [
       "<div>\n",
       "<style scoped>\n",
       "    .dataframe tbody tr th:only-of-type {\n",
       "        vertical-align: middle;\n",
       "    }\n",
       "\n",
       "    .dataframe tbody tr th {\n",
       "        vertical-align: top;\n",
       "    }\n",
       "\n",
       "    .dataframe thead th {\n",
       "        text-align: right;\n",
       "    }\n",
       "</style>\n",
       "<table border=\"1\" class=\"dataframe\">\n",
       "  <thead>\n",
       "    <tr style=\"text-align: right;\">\n",
       "      <th></th>\n",
       "      <th>Name</th>\n",
       "      <th>Latitude</th>\n",
       "      <th>Longitude</th>\n",
       "      <th>Post Code</th>\n",
       "    </tr>\n",
       "  </thead>\n",
       "  <tbody>\n",
       "    <tr>\n",
       "      <td>0</td>\n",
       "      <td>Piano Bar</td>\n",
       "      <td>48.852967</td>\n",
       "      <td>2.345922</td>\n",
       "      <td>75005</td>\n",
       "    </tr>\n",
       "    <tr>\n",
       "      <td>1</td>\n",
       "      <td>Onze Bar</td>\n",
       "      <td>48.852674</td>\n",
       "      <td>2.345438</td>\n",
       "      <td>75005</td>\n",
       "    </tr>\n",
       "    <tr>\n",
       "      <td>4</td>\n",
       "      <td>Le Quasimodo Notre-Dame</td>\n",
       "      <td>48.854366</td>\n",
       "      <td>2.349851</td>\n",
       "      <td>75004</td>\n",
       "    </tr>\n",
       "    <tr>\n",
       "      <td>5</td>\n",
       "      <td>Île de la Cité</td>\n",
       "      <td>48.854980</td>\n",
       "      <td>2.347003</td>\n",
       "      <td>75004</td>\n",
       "    </tr>\n",
       "    <tr>\n",
       "      <td>6</td>\n",
       "      <td>Bardakis</td>\n",
       "      <td>48.852455</td>\n",
       "      <td>2.345032</td>\n",
       "      <td>75005</td>\n",
       "    </tr>\n",
       "    <tr>\n",
       "      <td>7</td>\n",
       "      <td>Chabana's Esmeralda</td>\n",
       "      <td>48.852835</td>\n",
       "      <td>2.345607</td>\n",
       "      <td>75005</td>\n",
       "    </tr>\n",
       "    <tr>\n",
       "      <td>8</td>\n",
       "      <td>Le Baryton</td>\n",
       "      <td>48.850382</td>\n",
       "      <td>2.350880</td>\n",
       "      <td>75005</td>\n",
       "    </tr>\n",
       "    <tr>\n",
       "      <td>9</td>\n",
       "      <td>La Palmeraie</td>\n",
       "      <td>48.851941</td>\n",
       "      <td>2.346120</td>\n",
       "      <td>75005</td>\n",
       "    </tr>\n",
       "  </tbody>\n",
       "</table>\n",
       "</div>"
      ],
      "text/plain": [
       "                      Name   Latitude  Longitude Post Code\n",
       "0                Piano Bar  48.852967   2.345922     75005\n",
       "1                 Onze Bar  48.852674   2.345438     75005\n",
       "4  Le Quasimodo Notre-Dame  48.854366   2.349851     75004\n",
       "5           Île de la Cité  48.854980   2.347003     75004\n",
       "6                 Bardakis  48.852455   2.345032     75005\n",
       "7      Chabana's Esmeralda  48.852835   2.345607     75005\n",
       "8               Le Baryton  48.850382   2.350880     75005\n",
       "9             La Palmeraie  48.851941   2.346120     75005"
      ]
     },
     "execution_count": 304,
     "metadata": {},
     "output_type": "execute_result"
    }
   ],
   "source": [
    "df_venues.head(10)"
   ]
  },
  {
   "cell_type": "code",
   "execution_count": 236,
   "metadata": {
    "jupyter": {
     "source_hidden": true
    }
   },
   "outputs": [],
   "source": []
  },
  {
   "cell_type": "code",
   "execution_count": 205,
   "metadata": {
    "jupyter": {
     "source_hidden": true
    }
   },
   "outputs": [],
   "source": []
  },
  {
   "cell_type": "code",
   "execution_count": 237,
   "metadata": {
    "collapsed": true,
    "jupyter": {
     "outputs_hidden": true,
     "source_hidden": true
    }
   },
   "outputs": [
    {
     "name": "stderr",
     "output_type": "stream",
     "text": [
      "/home/jupyterlab/conda/envs/python/lib/python3.6/site-packages/ipykernel_launcher.py:5: SettingWithCopyWarning: \n",
      "A value is trying to be set on a copy of a slice from a DataFrame\n",
      "\n",
      "See the caveats in the documentation: http://pandas.pydata.org/pandas-docs/stable/user_guide/indexing.html#returning-a-view-versus-a-copy\n",
      "  \"\"\"\n",
      "/home/jupyterlab/conda/envs/python/lib/python3.6/site-packages/ipykernel_launcher.py:7: SettingWithCopyWarning: \n",
      "A value is trying to be set on a copy of a slice from a DataFrame\n",
      "\n",
      "See the caveats in the documentation: http://pandas.pydata.org/pandas-docs/stable/user_guide/indexing.html#returning-a-view-versus-a-copy\n",
      "  import sys\n"
     ]
    }
   ],
   "source": []
  },
  {
   "cell_type": "code",
   "execution_count": 241,
   "metadata": {
    "collapsed": true,
    "jupyter": {
     "outputs_hidden": true,
     "source_hidden": true
    }
   },
   "outputs": [
    {
     "data": {
      "text/html": [
       "<div>\n",
       "<style scoped>\n",
       "    .dataframe tbody tr th:only-of-type {\n",
       "        vertical-align: middle;\n",
       "    }\n",
       "\n",
       "    .dataframe tbody tr th {\n",
       "        vertical-align: top;\n",
       "    }\n",
       "\n",
       "    .dataframe thead th {\n",
       "        text-align: right;\n",
       "    }\n",
       "</style>\n",
       "<table border=\"1\" class=\"dataframe\">\n",
       "  <thead>\n",
       "    <tr style=\"text-align: right;\">\n",
       "      <th></th>\n",
       "      <th>Name</th>\n",
       "      <th>Latitude</th>\n",
       "      <th>Longitude</th>\n",
       "      <th>Post Code</th>\n",
       "    </tr>\n",
       "  </thead>\n",
       "  <tbody>\n",
       "  </tbody>\n",
       "</table>\n",
       "</div>"
      ],
      "text/plain": [
       "Empty DataFrame\n",
       "Columns: [Name, Latitude, Longitude, Post Code]\n",
       "Index: []"
      ]
     },
     "execution_count": 241,
     "metadata": {},
     "output_type": "execute_result"
    }
   ],
   "source": [
    "df_venues_15=df_venues.loc[df_venues['Post Code'] == 75015]\n",
    "df_venues_15.head()\n",
    "\n",
    "\n",
    "\n"
   ]
  },
  {
   "cell_type": "code",
   "execution_count": 242,
   "metadata": {
    "collapsed": true,
    "jupyter": {
     "outputs_hidden": true,
     "source_hidden": true
    }
   },
   "outputs": [
    {
     "data": {
      "text/html": [
       "<div>\n",
       "<style scoped>\n",
       "    .dataframe tbody tr th:only-of-type {\n",
       "        vertical-align: middle;\n",
       "    }\n",
       "\n",
       "    .dataframe tbody tr th {\n",
       "        vertical-align: top;\n",
       "    }\n",
       "\n",
       "    .dataframe thead th {\n",
       "        text-align: right;\n",
       "    }\n",
       "</style>\n",
       "<table border=\"1\" class=\"dataframe\">\n",
       "  <thead>\n",
       "    <tr style=\"text-align: right;\">\n",
       "      <th></th>\n",
       "      <th>Name</th>\n",
       "      <th>Latitude</th>\n",
       "      <th>Longitude</th>\n",
       "      <th>Post Code</th>\n",
       "    </tr>\n",
       "  </thead>\n",
       "  <tbody>\n",
       "  </tbody>\n",
       "</table>\n",
       "</div>"
      ],
      "text/plain": [
       "Empty DataFrame\n",
       "Columns: [Name, Latitude, Longitude, Post Code]\n",
       "Index: []"
      ]
     },
     "execution_count": 242,
     "metadata": {},
     "output_type": "execute_result"
    }
   ],
   "source": [
    "df_venues_18=df_venues.loc[df_venues['Post Code'] == 75018]\n",
    "df_venues_18.head()"
   ]
  },
  {
   "cell_type": "code",
   "execution_count": 244,
   "metadata": {
    "collapsed": true,
    "jupyter": {
     "outputs_hidden": true,
     "source_hidden": true
    }
   },
   "outputs": [
    {
     "data": {
      "text/html": [
       "<div>\n",
       "<style scoped>\n",
       "    .dataframe tbody tr th:only-of-type {\n",
       "        vertical-align: middle;\n",
       "    }\n",
       "\n",
       "    .dataframe tbody tr th {\n",
       "        vertical-align: top;\n",
       "    }\n",
       "\n",
       "    .dataframe thead th {\n",
       "        text-align: right;\n",
       "    }\n",
       "</style>\n",
       "<table border=\"1\" class=\"dataframe\">\n",
       "  <thead>\n",
       "    <tr style=\"text-align: right;\">\n",
       "      <th></th>\n",
       "      <th>Name</th>\n",
       "      <th>Latitude</th>\n",
       "      <th>Longitude</th>\n",
       "      <th>Post Code</th>\n",
       "    </tr>\n",
       "  </thead>\n",
       "  <tbody>\n",
       "  </tbody>\n",
       "</table>\n",
       "</div>"
      ],
      "text/plain": [
       "Empty DataFrame\n",
       "Columns: [Name, Latitude, Longitude, Post Code]\n",
       "Index: []"
      ]
     },
     "execution_count": 244,
     "metadata": {},
     "output_type": "execute_result"
    }
   ],
   "source": [
    "df_venues_20=df_venues.loc[df_venues['Post Code'] == 75020]\n",
    "df_venues_20.head()"
   ]
  },
  {
   "cell_type": "code",
   "execution_count": null,
   "metadata": {},
   "outputs": [],
   "source": []
  },
  {
   "cell_type": "code",
   "execution_count": null,
   "metadata": {},
   "outputs": [],
   "source": []
  }
 ],
 "metadata": {
  "kernelspec": {
   "display_name": "Python",
   "language": "python",
   "name": "conda-env-python-py"
  },
  "language_info": {
   "codemirror_mode": {
    "name": "ipython",
    "version": 3
   },
   "file_extension": ".py",
   "mimetype": "text/x-python",
   "name": "python",
   "nbconvert_exporter": "python",
   "pygments_lexer": "ipython3",
   "version": "3.6.7"
  }
 },
 "nbformat": 4,
 "nbformat_minor": 4
}
